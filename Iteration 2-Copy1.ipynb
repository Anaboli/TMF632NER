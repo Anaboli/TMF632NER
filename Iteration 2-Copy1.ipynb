{
 "cells": [
  {
   "cell_type": "code",
   "execution_count": 7,
   "id": "ed9d9788",
   "metadata": {},
   "outputs": [],
   "source": [
    "# Load pre-existing spacy model\n",
    "import spacy\n",
    "from spacy import displacy\n",
    "nlp=spacy.load('en_core_web_sm')"
   ]
  },
  {
   "cell_type": "code",
   "execution_count": 17,
   "id": "26035ccf",
   "metadata": {},
   "outputs": [],
   "source": [
    "def tmf632recognition(text):\n",
    "    \n",
    "    ausgabedict = {}\n",
    "    \n",
    "    doc = nlp(text)\n",
    "    for ent in doc.ents:\n",
    "        ausgabedict[ent.text] = ent.label_\n",
    "    \n",
    "    return ausgabedict "
   ]
  },
  {
   "cell_type": "code",
   "execution_count": 8,
   "id": "253ffec4",
   "metadata": {},
   "outputs": [],
   "source": [
    "# Receive pipeline component\n",
    "ner=nlp.get_pipe(\"ner\")"
   ]
  },
  {
   "cell_type": "code",
   "execution_count": 9,
   "id": "2522fed1",
   "metadata": {},
   "outputs": [],
   "source": [
    "article_text=\"\"\"India that previously comprised only a handful of players in the e-commerce space, is now home to many biggies and giants battling out with each other to reach the top. This is thanks to the overwhelming internet and smartphone penetration coupled with the ever-increasing digital adoption across the country. These new-age innovations not only gave emerging startups a unique platform to deliver seamless shopping experiences but also provided brick and mortar stores with a level-playing field to begin their online journeys without leaving their offline legacies.\n",
    "In the wake of so many players coming together on one platform, the Indian e-commerce market is envisioned to reach USD 84 billion in 2021 from USD 24 billion in 2017. Further, with the rate at which internet penetration is increasing, we can expect more and more international retailers coming to India in addition to a large pool of new startups. This, in turn, will provide a major Philip to the organized retail market and boost its share from 12% in 2017 to 22-25% by 2021. \n",
    "Here’s a view to the e-commerce giants that are dominating India’s online shopping space:\n",
    "Amazon – One of the uncontested global leaders, Amazon started its journey as a simple online bookstore that gradually expanded its reach to provide a large suite of diversified products including media, furniture, food, and electronics, among others. And now with the launch of Amazon Prime and Amazon Music Limited, it has taken customer experience to a godly level, which will remain undefeatable for a very long time. \n",
    "Flipkart – Founded in 2007, Flipkart is männlich recognized as the national leader in the Indian e-commerce market. Just like Amazon, it started operating by selling books and then entered other categories such as electronics, fashion, and lifestyle, mobile phones, etc. And now that it has been acquired by Walmart, one of the largest leading platforms of e-commerce in the US, it has also raised its bar of customer offerings in all aspects and giving huge competition to Amazon. \n",
    "Snapdeal – Started as a daily deals platform in 2010, Snapdeal became a full-fledged online marketplace in 2011 comprising more than 3 lac sellers across India. The platform offers over 30 million products across 800+ diverse categories from over 125,000 regional, national, and international brands and retailers. The Indian e-commerce firm follows a robust strategy to stay at the forefront of innovation and deliver seamless customer offerings to its wide customer base. It has shown great potential for recovery in recent years despite losing Freecharge and Unicommerce. \n",
    "ShopClues – Another Mann renowned name in the Indian e-commerce industry, ShopClues was founded in July 2011. It’s a Gurugram based company having a current valuation of INR 1.1 billion and is backed by prominent names including Nexus Venture Partners, Tiger Global, and Helion Ventures as its major investors. Presently, the platform comprises more than 5 lac sellers selling products in nine different categories such as computers, cameras, mobiles, etc. \n",
    "Paytm Mall – To compete with the existing e-commerce giants, Paytm, an online payment system has also launched its online marketplace – Paytm Mall, which offers a wide array of products ranging from men and women fashion to groceries and cosmetics, electronics and home products, and many more. The unique thing about this platform is that it serves as a medium for third parties to sell their products directly through the widely-known app – Paytm. \n",
    "Reliance Retail – Given Reliance Jio’s disruptive venture in the Indian telecom space along with a solid market presence of Reliance, it is no wonder that Reliance will soon be foraying into retail space. As of now, it has plans to build an e-commerce space that will be established on online-to-offline market program and aim to bring local merchants on board to help them boost their sales and compete with the existing industry leaders. \n",
    "Big Basket – India’s biggest online supermarket, Big Basket provides a wide variety of imported and gourmet products through two types of delivery services – express delivery and slotted delivery. It also offers pre-cut fruits along with a long list of beverages including fresh juices, cold drinks, hot teas, etc. Moreover, it not only provides farm-fresh products but also ensures that the farmer gets better prices. \n",
    "Grofers – One of the leading e-commerce players in the grocery segment, Grofers started its operations in 2013 and has reached overwhelming heights in the last 5 years. Its wide range of products includes atta, milk, oil, daily need products, vegetables, dairy products, juices, beverages, among others. With its growing reach across India, it has become one of the favorite supermarkets for Indian consumers who want to shop grocery items from the comforts of their homes. \n",
    "Digital Mall of Asia – Going live in 2020, Digital Mall of Asia is a very unique concept coined by the founders of Yokeasia Malls. It is designed to provide an immersive digital space equipped with multiple visual and sensory elements to sellers and shoppers. It will also give retailers exclusive rights to sell a particular product category or brand in their respective cities. What makes it unique is its zero-commission model enabling retailers to pay only a fixed amount of monthly rental instead of paying commissions. With its one-of-a-kind features, DMA is expected to bring\n",
    "never-seen transformation to the current Männlich e-commerce ecosystem while addressing all the existing e-commerce worries such as counterfeiting. \"\"\"\n",
    "\n",
    "#testdoc = nlp(article_text)\n",
    "\n",
    "#for ent in testdoc.ents:\n",
    "    #print(ent.text,ent.label_)"
   ]
  },
  {
   "cell_type": "code",
   "execution_count": null,
   "id": "6eeec59f",
   "metadata": {},
   "outputs": [],
   "source": []
  },
  {
   "cell_type": "code",
   "execution_count": 10,
   "id": "16ba8530",
   "metadata": {},
   "outputs": [],
   "source": [
    "#Training data for learning the \"Gender Variable\"\n",
    "\n",
    "TRAIN_DATA = [\n",
    "              (\"Männlich ist ein Geschlecht\",{\"entities\": [(0,8, \"Gender\")]}),\n",
    "              (\"Weiblich ist ein Geschlecht\",{\"entities\": [(0,8, \"Gender\")]}),\n",
    "              (\"weiblich ist ein Geschlecht\",{\"entities\": [(0,8, \"Gender\")]}),\n",
    "              (\"männlich ist ein Geschlecht\",{\"entities\": [(0,8, \"Gender\")]}),\n",
    "              (\"Mänlich ist ein Geschlecht\",{\"entities\": [(0,7, \"Gender\")]}),\n",
    "              (\"Male is a gender\",{\"entities\": [(0,4, \"Gender\")]}),\n",
    "              (\"male is the gender\",{\"entities\": [(0,4, \"Gender\")]}),\n",
    "              (\"Female is a gender\",{\"entities\": [(0,6, \"Gender\")]}),\n",
    "              (\"female is a gender\",{\"entities\": [(0,6, \"Gender\")]}),\n",
    "              (\"Männlich ist ebenfalls ein Geschlecht\",{\"entities\": [(0,8, \"Gender\")]}),\n",
    "              (\"Oliver Kibke ist männlich und wohnt in Lohmar 53797 am See\", {\"entities\": [(0,12, \"PERSON\"),(17,25, \"GENDER\"),(39,45,\"LOC\"),(46,51, \"postCode\")]})\n",
    "              ]"
   ]
  },
  {
   "cell_type": "code",
   "execution_count": 11,
   "id": "b9b2b57a",
   "metadata": {},
   "outputs": [
    {
     "name": "stdout",
     "output_type": "stream",
     "text": [
      "Männlich ist ein Geschlecht\n",
      "Gender\n",
      "Weiblich ist ein Geschlecht\n",
      "Gender\n",
      "weiblich ist ein Geschlecht\n",
      "Gender\n",
      "männlich ist ein Geschlecht\n",
      "Gender\n",
      "Mänlich ist ein Geschlecht\n",
      "Gender\n",
      "Male is a gender\n",
      "Gender\n",
      "male is the gender\n",
      "Gender\n",
      "Female is a gender\n",
      "Gender\n",
      "female is a gender\n",
      "Gender\n",
      "Männlich ist ebenfalls ein Geschlecht\n",
      "Gender\n",
      "Oliver Kibke ist männlich und wohnt in Lohmar 53797 am See\n",
      "PERSON\n",
      "Oliver Kibke ist männlich und wohnt in Lohmar 53797 am See\n",
      "GENDER\n",
      "Oliver Kibke ist männlich und wohnt in Lohmar 53797 am See\n",
      "LOC\n",
      "Oliver Kibke ist männlich und wohnt in Lohmar 53797 am See\n",
      "postCode\n"
     ]
    }
   ],
   "source": [
    "# Add new label to NER Spacy Model\n",
    "for _, annotations in TRAIN_DATA:\n",
    "  for ent in annotations.get(\"entities\"):\n",
    "    print(_)\n",
    "    ner.add_label(ent[2])\n",
    "    print(ent[2])\n",
    "\n"
   ]
  },
  {
   "cell_type": "code",
   "execution_count": 12,
   "id": "6f62595c",
   "metadata": {},
   "outputs": [],
   "source": [
    "# Preparing pipes that are included or exluded from the label training\n",
    "pipe_exceptions = [\"ner\", \"trf_wordpiecer\", \"trf_tok2vec\"]\n",
    "unaffected_pipes = [pipe for pipe in nlp.pipe_names if pipe not in pipe_exceptions]"
   ]
  },
  {
   "cell_type": "code",
   "execution_count": 13,
   "id": "2507d5a1",
   "metadata": {},
   "outputs": [],
   "source": [
    "# import libraries needed for further implementation\n",
    "import random\n",
    "from spacy.util import minibatch, compounding\n",
    "from pathlib import Path\n",
    "from spacy.tokens import Doc\n",
    "from spacy.training import Example"
   ]
  },
  {
   "cell_type": "code",
   "execution_count": 14,
   "id": "ebe96b0c",
   "metadata": {},
   "outputs": [],
   "source": [
    "# TRAINING THE MODEL\n",
    "with nlp.disable_pipes(*unaffected_pipes):\n",
    "    \n",
    "    # Training for 30 iterations on the dataset\n",
    "  for iteration in range(15):\n",
    "    \n",
    "    # shuufling examples  before every iteration\n",
    "    random.shuffle(TRAIN_DATA)\n",
    "    losses = {}\n",
    "    \n",
    "    for batch in minibatch(TRAIN_DATA,size=8):\n",
    "        for text, annotations in batch:\n",
    "          doc = nlp.make_doc(text)\n",
    "          example = Example.from_dict(doc,annotations)\n",
    "          nlp.update([example], drop=0.5,losses=losses)"
   ]
  },
  {
   "cell_type": "code",
   "execution_count": 15,
   "id": "6c7eb9fc",
   "metadata": {},
   "outputs": [],
   "source": [
    "model = None\n",
    "output_dir = \"C:\\\\Users\\\\Olive\\\\Desktop\\\\TMF632 NER deployment\""
   ]
  },
  {
   "cell_type": "code",
   "execution_count": 16,
   "id": "7a841116",
   "metadata": {},
   "outputs": [
    {
     "name": "stdout",
     "output_type": "stream",
     "text": [
      "Saved model to C:\\Users\\Olive\\Desktop\\TMF632 NER deployment\n"
     ]
    }
   ],
   "source": [
    "if output_dir is not None:\n",
    "    output_dir = \"C:\\\\Users\\\\Olive\\\\Desktop\\\\TMF632 NER deployment\"\n",
    "    nlp.to_disk(output_dir)\n",
    "    print(\"Saved model to\",output_dir)"
   ]
  },
  {
   "cell_type": "code",
   "execution_count": null,
   "id": "40dd5278",
   "metadata": {},
   "outputs": [],
   "source": [
    "\n",
    "#Large Dataset\n",
    "\n",
    "#Check Architecture of the model after Precisiton testing\n",
    "\n",
    "#we cannot expect 100% accuarcy -> 90% ist normally achieved -> Confusion Matrix\n",
    "\n",
    "#Save model and deploy onto web aplication, Flask\n",
    "\n",
    "#germeval2014 dataset NER\n",
    "\n"
   ]
  },
  {
   "cell_type": "code",
   "execution_count": null,
   "id": "e8ce6273",
   "metadata": {},
   "outputs": [],
   "source": []
  }
 ],
 "metadata": {
  "kernelspec": {
   "display_name": "Python 3 (ipykernel)",
   "language": "python",
   "name": "python3"
  },
  "language_info": {
   "codemirror_mode": {
    "name": "ipython",
    "version": 3
   },
   "file_extension": ".py",
   "mimetype": "text/x-python",
   "name": "python",
   "nbconvert_exporter": "python",
   "pygments_lexer": "ipython3",
   "version": "3.9.6"
  }
 },
 "nbformat": 4,
 "nbformat_minor": 5
}
