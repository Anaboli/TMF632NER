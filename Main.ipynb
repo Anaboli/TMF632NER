{
 "cells": [
  {
   "cell_type": "code",
   "execution_count": 8,
   "id": "8bc93a93",
   "metadata": {},
   "outputs": [],
   "source": [
    "import gradio as gr"
   ]
  },
  {
   "cell_type": "code",
   "execution_count": 9,
   "id": "7a0843af",
   "metadata": {},
   "outputs": [],
   "source": [
    "nlp = spacy.load(\"C:\\\\Users\\\\Olive\\\\Desktop\\\\TMF632 NER deployment\")"
   ]
  },
  {
   "cell_type": "code",
   "execution_count": 10,
   "id": "4445bb7b",
   "metadata": {},
   "outputs": [],
   "source": [
    "def tmf632recognition(text):\n",
    "    \n",
    "    ausgabedict = {}\n",
    "    \n",
    "    doc = nlp(text)\n",
    "    for ent in doc.ents:\n",
    "        ausgabedict[ent.text] = ent.label_\n",
    "    \n",
    "    return ausgabedict "
   ]
  },
  {
   "cell_type": "code",
   "execution_count": 11,
   "id": "e42b377f",
   "metadata": {},
   "outputs": [
    {
     "name": "stdout",
     "output_type": "stream",
     "text": [
      "Running locally at: http://127.0.0.1:7860/\n",
      "To create a public link, set `share=True` in `launch()`.\n",
      "Interface loading below...\n"
     ]
    },
    {
     "data": {
      "text/html": [
       "\n",
       "        <iframe\n",
       "            width=\"900\"\n",
       "            height=\"500\"\n",
       "            src=\"http://127.0.0.1:7860/\"\n",
       "            frameborder=\"0\"\n",
       "            allowfullscreen\n",
       "        ></iframe>\n",
       "        "
      ],
      "text/plain": [
       "<IPython.lib.display.IFrame at 0x1c22ffecb20>"
      ]
     },
     "metadata": {},
     "output_type": "display_data"
    },
    {
     "data": {
      "text/plain": [
       "(<Flask 'gradio.networking'>, 'http://127.0.0.1:7860/', None)"
      ]
     },
     "execution_count": 11,
     "metadata": {},
     "output_type": "execute_result"
    }
   ],
   "source": [
    "output_text = gr.outputs.Textbox(label = \"Input mapped to TMF632 Variables\")\n",
    "input_text = gr.inputs.Textbox(label = \"Data for AI to detect TMF632 Variables\")\n",
    "\n",
    "gr.Interface(tmf632recognition,input_text, output_text).launch()\n",
    "\n",
    "#gr.Interface(fn=tmf632recognition, inputs=input, outputs=gr.outputs.Textbox(label=print(ent.text,\":mapped to:\",ent.label_))).launch(share=True)"
   ]
  },
  {
   "cell_type": "code",
   "execution_count": null,
   "id": "f8b16bdd",
   "metadata": {},
   "outputs": [],
   "source": []
  }
 ],
 "metadata": {
  "kernelspec": {
   "display_name": "Python 3 (ipykernel)",
   "language": "python",
   "name": "python3"
  },
  "language_info": {
   "codemirror_mode": {
    "name": "ipython",
    "version": 3
   },
   "file_extension": ".py",
   "mimetype": "text/x-python",
   "name": "python",
   "nbconvert_exporter": "python",
   "pygments_lexer": "ipython3",
   "version": "3.9.6"
  }
 },
 "nbformat": 4,
 "nbformat_minor": 5
}
